{
 "cells": [
  {
   "cell_type": "code",
   "execution_count": 6,
   "metadata": {},
   "outputs": [],
   "source": [
    "import os\n",
    "from os import listdir\n",
    "import pandas as pd"
   ]
  },
  {
   "cell_type": "code",
   "execution_count": 7,
   "metadata": {},
   "outputs": [],
   "source": [
    "UNWANTED_COLS = [\"TimeStamp\"]"
   ]
  },
  {
   "cell_type": "code",
   "execution_count": 8,
   "metadata": {},
   "outputs": [],
   "source": [
    "def find_csv_filenames(path_to_dir, suffix=\".csv\"):\n",
    "    filenames = listdir(path_to_dir)\n",
    "    return [os.path.join(path_to_dir, filename) for filename in filenames if filename.endswith(suffix)]"
   ]
  },
  {
   "cell_type": "code",
   "execution_count": null,
   "metadata": {},
   "outputs": [],
   "source": [
    "# dataset의 data -> 불필요한 column 제거 후 output에 저장\n",
    "\n",
    "if __name__ == '__main__':\n",
    "    subject_filenames = find_csv_filenames(\"../../dataset\")\n",
    "\n",
    "    for name in subject_filenames:\n",
    "        filename = os.path.basename(name)\n",
    "        lhs, rhs = filename.split(\"_\", 1)\n",
    "\n",
    "        search = lhs\n",
    "        result = [subject for subject in subject_filenames if search in subject]\n",
    "\n",
    "        merged_df = pd.DataFrame()\n",
    "        for subject_name in result:\n",
    "            df = pd.read_csv(subject_name)\n",
    "            df = df.query('1 <= TimeStamp <=5')\n",
    "            df.drop(UNWANTED_COLS, axis=1, inplace=True)\n",
    "\n",
    "            df['class'] = df['class'].map({1: 1, -1: 0})\n",
    "            merged_df = merged_df.append(df, ignore_index=True)\n",
    "        merged_df.drop([\"trial\"], axis=1, inplace=True)\n",
    "\n",
    "        merged_df.to_csv(\"../../output/{}_merged.csv\".format(search), index=False)"
   ]
  }
 ],
 "metadata": {
  "kernelspec": {
   "display_name": "base",
   "language": "python",
   "name": "python3"
  },
  "language_info": {
   "codemirror_mode": {
    "name": "ipython",
    "version": 3
   },
   "file_extension": ".py",
   "mimetype": "text/x-python",
   "name": "python",
   "nbconvert_exporter": "python",
   "pygments_lexer": "ipython3",
   "version": "3.9.13"
  },
  "orig_nbformat": 4,
  "vscode": {
   "interpreter": {
    "hash": "263930470851f494f0ed2879c35b57985588df20f9e529b86e97dd5eb9ddc466"
   }
  }
 },
 "nbformat": 4,
 "nbformat_minor": 2
}
