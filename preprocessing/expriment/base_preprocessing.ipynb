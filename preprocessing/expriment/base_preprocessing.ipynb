{
 "cells": [
  {
   "cell_type": "code",
   "execution_count": 3,
   "metadata": {},
   "outputs": [],
   "source": [
    "import sys, os\n",
    "sys.path.append(os.path.abspath('../'))\n",
    "\n",
    "from os import listdir\n",
    "import pandas as pd\n",
    "from utils import find_csv_filenames"
   ]
  },
  {
   "cell_type": "code",
   "execution_count": 4,
   "metadata": {},
   "outputs": [],
   "source": [
    "UNWANTED_COLS = [\"TimeStamp\"]"
   ]
  },
  {
   "cell_type": "code",
   "execution_count": null,
   "metadata": {},
   "outputs": [],
   "source": [
    "# dataset의 data -> 불필요한 column 제거 후 output에 저장\n",
    "\n",
    "if __name__ == '__main__':\n",
    "    subject_filenames = find_csv_filenames(\"../../dataset\")\n",
    "\n",
    "    for name in subject_filenames:\n",
    "        filename = os.path.basename(name)\n",
    "        lhs, rhs = filename.split(\"_\", 1)\n",
    "\n",
    "        search = lhs\n",
    "        result = [subject for subject in subject_filenames if search in subject]\n",
    "\n",
    "        merged_df = pd.DataFrame()\n",
    "        for subject_name in result:\n",
    "            df = pd.read_csv(subject_name)\n",
    "            df = df.query('1 <= TimeStamp <=5')\n",
    "            df.drop(UNWANTED_COLS, axis=1, inplace=True)\n",
    "\n",
    "            df['class'] = df['class'].map({1: 1, -1: 0})\n",
    "            merged_df = merged_df.append(df, ignore_index=True)\n",
    "        merged_df.drop([\"trial\"], axis=1, inplace=True)\n",
    "\n",
    "        merged_df.to_csv(\"../../output/{}_merged.csv\".format(search), index=False)"
   ]
  }
 ],
 "metadata": {
  "kernelspec": {
   "display_name": "Python 3.9.12 ('base')",
   "language": "python",
   "name": "python3"
  },
  "language_info": {
   "codemirror_mode": {
    "name": "ipython",
    "version": 3
   },
   "file_extension": ".py",
   "mimetype": "text/x-python",
   "name": "python",
   "nbconvert_exporter": "python",
   "pygments_lexer": "ipython3",
   "version": "3.9.12"
  },
  "orig_nbformat": 4,
  "vscode": {
   "interpreter": {
    "hash": "85e7e2ebc682493692378274e291e0d870d6f18c0ce1011b980f16445a85ba07"
   }
  }
 },
 "nbformat": 4,
 "nbformat_minor": 2
}
