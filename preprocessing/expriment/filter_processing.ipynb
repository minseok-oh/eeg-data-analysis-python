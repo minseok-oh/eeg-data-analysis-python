{
 "cells": [
  {
   "cell_type": "code",
   "execution_count": 20,
   "metadata": {},
   "outputs": [],
   "source": [
    "import sys, os\n",
    "sys.path.append(os.path.abspath('../'))\n",
    "\n",
    "from os import listdir\n",
    "import pandas as pd\n",
    "import numpy as np\n",
    "from utils import find_csv_filenames\n",
    "import matplotlib.pyplot as plt\n",
    "\n",
    "from sklearn.decomposition import PCA\n",
    "from sklearn.decomposition import FastICA"
   ]
  },
  {
   "cell_type": "code",
   "execution_count": 7,
   "metadata": {},
   "outputs": [
    {
     "data": {
      "text/plain": [
       "<matplotlib.collections.PathCollection at 0x156bcdcb730>"
      ]
     },
     "execution_count": 7,
     "metadata": {},
     "output_type": "execute_result"
    },
    {
     "data": {
      "image/png": "[encoded data removed]",
      "text/plain": [
       "<Figure size 432x288 with 1 Axes>"
      ]
     },
     "metadata": {
      "needs_background": "light"
     },
     "output_type": "display_data"
    }
   ],
   "source": [
    "subject_filenames = find_csv_filenames(\"../../output\")\n",
    "name = subject_filenames[0]\n",
    "df = pd.read_csv(name)\n",
    "\n",
    "plt.scatter(x=df['F3'], y=df['FC5'])"
   ]
  },
  {
   "cell_type": "code",
   "execution_count": 21,
   "metadata": {},
   "outputs": [
    {
     "name": "stdout",
     "output_type": "stream",
     "text": [
      "[[ 4.26666560e+05  4.38646950e+04  3.39977889e+04  2.17344268e+04\n",
      "   5.44173425e+04  3.06264665e+04  2.13715752e+04 -1.64230804e+03\n",
      "   5.26070099e+04  3.18417193e+04  1.10272574e+04  2.13024741e+04\n",
      "  -1.92699669e+03  2.38604849e+04  2.06302871e+04  1.45164945e+04\n",
      "   1.97503789e+04  2.28510544e-11 -4.62563321e-12]\n",
      " [ 4.38646950e+04  2.57961207e+07  2.02435920e+07  1.61039105e+07\n",
      "   2.27515868e+07  1.76735569e+07  1.46464983e+07  7.37603025e+06\n",
      "   2.27211246e+07  1.73243093e+07  1.03745832e+07  1.27035636e+07\n",
      "   7.34074548e+06  1.39974284e+07  1.23589811e+07  1.02264162e+07\n",
      "   5.63451935e+06 -1.07128779e+04  7.74495208e+03]\n",
      " [ 3.39977889e+04  2.02435920e+07  1.86520659e+07  1.56219532e+07\n",
      "   1.73322689e+07  1.55147199e+07  1.43251304e+07  7.80502277e+06\n",
      "   1.72980235e+07  1.49741146e+07  1.03420449e+07  1.19631867e+07\n",
      "   7.76617871e+06  1.04799510e+07  1.06076543e+07  9.55895961e+06\n",
      "   5.44821658e+06 -1.48637857e+04  6.84404497e+03]\n",
      " [ 2.17344268e+04  1.61039105e+07  1.56219532e+07  1.62641389e+07\n",
      "   1.27380285e+07  1.18796441e+07  1.23789427e+07  9.23253993e+06\n",
      "   1.26879388e+07  1.13374047e+07  9.69319500e+06  9.36531729e+06\n",
      "   9.19308658e+06  6.94241747e+06  7.74758012e+06  7.65942171e+06\n",
      "   5.02331164e+06  1.18012343e+04  7.92248869e+03]\n",
      " [ 5.44173425e+04  2.27515868e+07  1.73322689e+07  1.27380285e+07\n",
      "   2.32438461e+07  1.59081550e+07  1.22790170e+07  5.31863748e+06\n",
      "   2.31992577e+07  1.58183454e+07  8.57865397e+06  1.12479795e+07\n",
      "   5.29231311e+06  1.44959171e+07  1.17284639e+07  9.15634729e+06\n",
      "   4.79160707e+06  4.11898746e+03  8.71876081e+03]\n",
      " [ 3.06264665e+04  1.76735569e+07  1.55147199e+07  1.18796441e+07\n",
      "   1.59081550e+07  1.46284622e+07  1.25880826e+07  5.67946958e+06\n",
      "   1.58865406e+07  1.43392746e+07  9.19223090e+06  1.21449151e+07\n",
      "   5.64827549e+06  1.10467162e+07  1.15155994e+07  9.95144797e+06\n",
      "   5.18804364e+06 -2.33069660e+04  5.99240306e+03]\n",
      " [ 2.13715752e+04  1.46464983e+07  1.43251304e+07  1.23789427e+07\n",
      "   1.22790170e+07  1.25880826e+07  1.24133925e+07  6.63728003e+06\n",
      "   1.22523561e+07  1.21502506e+07  9.53614943e+06  1.10825478e+07\n",
      "   6.60332038e+06  8.12041095e+06  9.57183424e+06  9.27281916e+06\n",
      "   5.29788654e+06 -2.99349739e+04  5.13469169e+03]\n",
      " [-1.64230804e+03  7.37603025e+06  7.80502277e+06  9.23253993e+06\n",
      "   5.31863748e+06  5.67946958e+06  6.63728003e+06  8.68057289e+06\n",
      "   5.28792658e+06  5.37647211e+06  5.91065519e+06  4.88588804e+06\n",
      "   8.74721197e+06  2.95763668e+06  3.79353641e+06  4.27725703e+06\n",
      "   1.49680506e+06 -4.07008756e+04  9.98490891e+02]\n",
      " [ 5.26070099e+04  2.27211246e+07  1.72980235e+07  1.26879388e+07\n",
      "   2.31992577e+07  1.58865406e+07  1.22523561e+07  5.28792658e+06\n",
      "   2.31809555e+07  1.57965788e+07  8.55771789e+06  1.12159807e+07\n",
      "   5.26224370e+06  1.44940137e+07  1.17226149e+07  9.14171985e+06\n",
      "   4.78441394e+06  1.30407253e+03  8.26760783e+03]\n",
      " [ 3.18417193e+04  1.73243093e+07  1.49741146e+07  1.13374047e+07\n",
      "   1.58183454e+07  1.43392746e+07  1.21502506e+07  5.37647211e+06\n",
      "   1.57965788e+07  1.41529869e+07  8.91751926e+06  1.19289677e+07\n",
      "   5.34706292e+06  1.12569482e+07  1.15762749e+07  9.86153681e+06\n",
      "   5.12300571e+06 -2.83615847e+04  6.01451705e+03]\n",
      " [ 1.10272574e+04  1.03745832e+07  1.03420449e+07  9.69319500e+06\n",
      "   8.57865397e+06  9.19223090e+06  9.53614943e+06  5.91065519e+06\n",
      "   8.55771789e+06  8.91751926e+06  8.40909201e+06  8.75938993e+06\n",
      "   5.88387533e+06  6.10630467e+06  7.63103614e+06  7.98062175e+06\n",
      "   5.02613171e+06 -2.53556411e+04  4.92313397e+03]\n",
      " [ 2.13024741e+04  1.27035636e+07  1.19631867e+07  9.36531729e+06\n",
      "   1.12479795e+07  1.21449151e+07  1.10825478e+07  4.88588804e+06\n",
      "   1.12159807e+07  1.19289677e+07  8.75938993e+06  1.22900846e+07\n",
      "   4.86249740e+06  8.80791485e+06  1.12894989e+07  1.06096607e+07\n",
      "   5.35557308e+06 -2.89275531e+04  6.60810231e+03]\n",
      " [-1.92699669e+03  7.34074548e+06  7.76617871e+06  9.19308658e+06\n",
      "   5.29231311e+06  5.64827549e+06  6.60332038e+06  8.74721197e+06\n",
      "   5.26224370e+06  5.34706292e+06  5.88387533e+06  4.86249740e+06\n",
      "   8.83396085e+06  2.94309944e+06  3.77718087e+06  4.26099254e+06\n",
      "   1.40033923e+06 -4.43990176e+04  6.63815025e+02]\n",
      " [ 2.38604849e+04  1.39974284e+07  1.04799510e+07  6.94241747e+06\n",
      "   1.44959171e+07  1.10467162e+07  8.12041095e+06  2.95763668e+06\n",
      "   1.44940137e+07  1.12569482e+07  6.10630467e+06  8.80791485e+06\n",
      "   2.94309944e+06  1.22645314e+07  1.03693632e+07  7.87603949e+06\n",
      "   4.13660524e+06 -1.10502884e+04  3.51314362e+03]\n",
      " [ 2.06302871e+04  1.23589811e+07  1.06076543e+07  7.74758012e+06\n",
      "   1.17284639e+07  1.15155994e+07  9.57183424e+06  3.79353641e+06\n",
      "   1.17226149e+07  1.15762749e+07  7.63103614e+06  1.12894989e+07\n",
      "   3.77718087e+06  1.03693632e+07  1.21216463e+07  1.03368089e+07\n",
      "   5.16490989e+06 -3.27788670e+04  3.92593862e+03]\n",
      " [ 1.45164945e+04  1.02264162e+07  9.55895961e+06  7.65942171e+06\n",
      "   9.15634729e+06  9.95144797e+06  9.27281916e+06  4.27725703e+06\n",
      "   9.14171985e+06  9.86153681e+06  7.98062175e+06  1.06096607e+07\n",
      "   4.26099254e+06  7.87603949e+06  1.03368089e+07  1.02585238e+07\n",
      "   5.67069239e+06 -2.64169657e+04  5.10472744e+03]\n",
      " [ 1.97503789e+04  5.63451935e+06  5.44821658e+06  5.02331164e+06\n",
      "   4.79160707e+06  5.18804364e+06  5.29788654e+06  1.49680506e+06\n",
      "   4.78441394e+06  5.12300571e+06  5.02613171e+06  5.35557308e+06\n",
      "   1.40033923e+06  4.13660524e+06  5.16490989e+06  5.67069239e+06\n",
      "   6.27067411e+06  3.34691817e+04  5.96071664e+03]\n",
      " [ 2.28510544e-11 -1.07128779e+04 -1.48637857e+04  1.18012343e+04\n",
      "   4.11898746e+03 -2.33069660e+04 -2.99349739e+04 -4.07008756e+04\n",
      "   1.30407253e+03 -2.83615847e+04 -2.53556411e+04 -2.89275531e+04\n",
      "  -4.43990176e+04 -1.10502884e+04 -3.27788670e+04 -2.64169657e+04\n",
      "   3.34691817e+04  1.06600000e+07  1.16000000e+05]\n",
      " [-4.62563321e-12  7.74495208e+03  6.84404497e+03  7.92248869e+03\n",
      "   8.71876081e+03  5.99240306e+03  5.13469169e+03  9.98490891e+02\n",
      "   8.26760783e+03  6.01451705e+03  4.92313397e+03  6.60810231e+03\n",
      "   6.63815025e+02  3.51314362e+03  3.92593862e+03  5.10472744e+03\n",
      "   5.96071664e+03  1.16000000e+05  8.00000000e+04]]\n"
     ]
    }
   ],
   "source": [
    "for i in range(df.shape[1]):\n",
    "    df.iloc[:, i] = df.iloc[:, i] - df.iloc[:, i].mean()\n",
    "\n",
    "cov = np.dot(df.T.to_numpy(), df.to_numpy())\n",
    "print(cov)"
   ]
  },
  {
   "cell_type": "code",
   "execution_count": 40,
   "metadata": {},
   "outputs": [
    {
     "data": {
      "text/plain": [
       "<matplotlib.collections.PathCollection at 0x218d0996fd0>"
      ]
     },
     "execution_count": 40,
     "metadata": {},
     "output_type": "execute_result"
    },
    {
     "data": {
      "image/png": "[encoded data removed]",
      "text/plain": [
       "<Figure size 432x288 with 1 Axes>"
      ]
     },
     "metadata": {
      "needs_background": "light"
     },
     "output_type": "display_data"
    }
   ],
   "source": [
    "trans_data = pd.DataFrame(np.dot(cov, df.T)).T\n",
    "\n",
    "plt.scatter(x=trans_data.iloc[:, 1], y=trans_data.iloc[:, 2])"
   ]
  },
  {
   "cell_type": "code",
   "execution_count": 52,
   "metadata": {},
   "outputs": [
    {
     "name": "stdout",
     "output_type": "stream",
     "text": [
      "(80000, 5)\n"
     ]
    }
   ],
   "source": [
    "pca = PCA(n_components=5)\n",
    "reduct_data = pca.fit_transform(df)\n",
    "\n",
    "print(reduct_data.shape)"
   ]
  },
  {
   "cell_type": "code",
   "execution_count": 9,
   "metadata": {},
   "outputs": [],
   "source": [
    "split_data = df.iloc[:100, :10]\n",
    "u, s, v = np.linalg.svd(split_data)"
   ]
  },
  {
   "cell_type": "code",
   "execution_count": 10,
   "metadata": {},
   "outputs": [
    {
     "name": "stdout",
     "output_type": "stream",
     "text": [
      "(100, 100)\n",
      "(10,)\n",
      "(10, 10)\n"
     ]
    }
   ],
   "source": [
    "print(u.shape)\n",
    "print(s.shape)\n",
    "print(v.shape)"
   ]
  },
  {
   "cell_type": "code",
   "execution_count": 25,
   "metadata": {},
   "outputs": [],
   "source": [
    "ica = FastICA(n_components=6, random_state=23)\n",
    "x_transformed = ica.fit_transform(df)"
   ]
  },
  {
   "cell_type": "code",
   "execution_count": 26,
   "metadata": {},
   "outputs": [
    {
     "name": "stdout",
     "output_type": "stream",
     "text": [
      "(40040, 6)\n"
     ]
    }
   ],
   "source": [
    "print(x_transformed.shape)"
   ]
  }
 ],
 "metadata": {
  "kernelspec": {
   "display_name": "Python 3.9.12 ('base')",
   "language": "python",
   "name": "python3"
  },
  "language_info": {
   "codemirror_mode": {
    "name": "ipython",
    "version": 3
   },
   "file_extension": ".py",
   "mimetype": "text/x-python",
   "name": "python",
   "nbconvert_exporter": "python",
   "pygments_lexer": "ipython3",
   "version": "3.9.12 (main, Apr  4 2022, 05:22:27) [MSC v.1916 64 bit (AMD64)]"
  },
  "orig_nbformat": 4,
  "vscode": {
   "interpreter": {
    "hash": "85e7e2ebc682493692378274e291e0d870d6f18c0ce1011b980f16445a85ba07"
   }
  }
 },
 "nbformat": 4,
 "nbformat_minor": 2
}
